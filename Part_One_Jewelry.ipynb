{
  "nbformat": 4,
  "nbformat_minor": 0,
  "metadata": {
    "colab": {
      "provenance": []
    },
    "kernelspec": {
      "name": "python3",
      "display_name": "Python 3"
    },
    "language_info": {
      "name": "python"
    }
  },
  "cells": [
    {
      "cell_type": "code",
      "execution_count": 1,
      "metadata": {
        "colab": {
          "base_uri": "https://localhost:8080/"
        },
        "id": "lmrnIh9JmXYy",
        "outputId": "e0eebdb7-40b3-4967-800f-b3f62783fba6"
      },
      "outputs": [
        {
          "output_type": "stream",
          "name": "stdout",
          "text": [
            "\r0% [Working]\r            \rGet:1 https://cloud.r-project.org/bin/linux/ubuntu focal-cran40/ InRelease [3,622 B]\n",
            "\r0% [Connecting to archive.ubuntu.com] [Connecting to security.ubuntu.com (185.1\r0% [Connecting to archive.ubuntu.com] [Connecting to security.ubuntu.com (185.1\r                                                                               \rGet:2 http://security.ubuntu.com/ubuntu focal-security InRelease [114 kB]\n",
            "Hit:3 http://ppa.launchpad.net/c2d4u.team/c2d4u4.0+/ubuntu focal InRelease\n",
            "Ign:4 https://developer.download.nvidia.com/compute/machine-learning/repos/ubuntu2004/x86_64  InRelease\n",
            "Get:5 https://developer.download.nvidia.com/compute/cuda/repos/ubuntu2004/x86_64  InRelease [1,581 B]\n",
            "Hit:6 http://archive.ubuntu.com/ubuntu focal InRelease\n",
            "Hit:7 https://developer.download.nvidia.com/compute/machine-learning/repos/ubuntu2004/x86_64  Release\n",
            "Get:8 http://archive.ubuntu.com/ubuntu focal-updates InRelease [114 kB]\n",
            "Hit:9 http://ppa.launchpad.net/cran/libgit2/ubuntu focal InRelease\n",
            "Hit:10 http://ppa.launchpad.net/deadsnakes/ppa/ubuntu focal InRelease\n",
            "Get:11 http://archive.ubuntu.com/ubuntu focal-backports InRelease [108 kB]\n",
            "Hit:12 http://ppa.launchpad.net/graphics-drivers/ppa/ubuntu focal InRelease\n",
            "Hit:13 http://ppa.launchpad.net/ubuntugis/ppa/ubuntu focal InRelease\n",
            "Get:14 https://developer.download.nvidia.com/compute/cuda/repos/ubuntu2004/x86_64  Packages [907 kB]\n",
            "Get:16 http://security.ubuntu.com/ubuntu focal-security/universe amd64 Packages [1,008 kB]\n",
            "Get:17 http://security.ubuntu.com/ubuntu focal-security/main amd64 Packages [2,497 kB]\n",
            "Get:18 http://archive.ubuntu.com/ubuntu focal-updates/universe amd64 Packages [1,304 kB]\n",
            "Get:19 http://archive.ubuntu.com/ubuntu focal-updates/main amd64 Packages [2,972 kB]\n",
            "Fetched 9,029 kB in 6s (1,511 kB/s)\n",
            "Reading package lists... Done\n",
            "Looking in indexes: https://pypi.org/simple, https://us-python.pkg.dev/colab-wheels/public/simple/\n",
            "Collecting pyspark\n",
            "  Downloading pyspark-3.3.2.tar.gz (281.4 MB)\n",
            "\u001b[2K     \u001b[90m━━━━━━━━━━━━━━━━━━━━━━━━━━━━━━━━━━━━━━━\u001b[0m \u001b[32m281.4/281.4 MB\u001b[0m \u001b[31m5.1 MB/s\u001b[0m eta \u001b[36m0:00:00\u001b[0m\n",
            "\u001b[?25h  Preparing metadata (setup.py) ... \u001b[?25l\u001b[?25hdone\n",
            "Collecting py4j==0.10.9.5\n",
            "  Downloading py4j-0.10.9.5-py2.py3-none-any.whl (199 kB)\n",
            "\u001b[2K     \u001b[90m━━━━━━━━━━━━━━━━━━━━━━━━━━━━━━━━━━━━━━\u001b[0m \u001b[32m199.7/199.7 KB\u001b[0m \u001b[31m22.8 MB/s\u001b[0m eta \u001b[36m0:00:00\u001b[0m\n",
            "\u001b[?25hBuilding wheels for collected packages: pyspark\n",
            "  Building wheel for pyspark (setup.py) ... \u001b[?25l\u001b[?25hdone\n",
            "  Created wheel for pyspark: filename=pyspark-3.3.2-py2.py3-none-any.whl size=281824025 sha256=a956cb1eaffd39cab1e6262d16cf129d9b5e9f7b68c16daa7d9fe1487922c88c\n",
            "  Stored in directory: /root/.cache/pip/wheels/b1/59/a0/a1a0624b5e865fd389919c1a10f53aec9b12195d6747710baf\n",
            "Successfully built pyspark\n",
            "Installing collected packages: py4j, pyspark\n",
            "Successfully installed py4j-0.10.9.5 pyspark-3.3.2\n"
          ]
        }
      ],
      "source": [
        "# Activate Spark in our Colab notebook.\n",
        "import os\n",
        "\n",
        "# Find the latest version of spark 3.2  from http://www.apache.org/dist/spark/ and enter as the spark version\n",
        "spark_version = 'spark-3.2.3'\n",
        "os.environ['SPARK_VERSION']=spark_version\n",
        "\n",
        "# Install Spark and Java\n",
        "!apt-get update\n",
        "!apt-get install openjdk-11-jdk-headless -qq > /dev/null\n",
        "!wget -q http://www.apache.org/dist/spark/$SPARK_VERSION/$SPARK_VERSION-bin-hadoop2.7.tgz\n",
        "!tar xf $SPARK_VERSION-bin-hadoop2.7.tgz\n",
        "\n",
        "#pip install both of these or else it wont work\n",
        "!pip install -q findspark\n",
        "!pip install pyspark\n",
        "\n",
        "\n",
        "# Set Environment Variables\n",
        "os.environ[\"JAVA_HOME\"] = \"/usr/lib/jvm/java-11-openjdk-amd64\"\n",
        "os.environ[\"SPARK_HOME\"] = f\"/content/{spark_version}-bin-hadoop2.7\"\n",
        "\n",
        "# Start a SparkSession\n",
        "import findspark\n",
        "findspark.init()"
      ]
    },
    {
      "cell_type": "code",
      "source": [
        "# Get postgresql package\n",
        "!wget https://jdbc.postgresql.org/download/postgresql-42.2.9.jar"
      ],
      "metadata": {
        "colab": {
          "base_uri": "https://localhost:8080/"
        },
        "id": "WPF9LG9ommrV",
        "outputId": "26a4ffae-395e-4d2b-e4e7-49a81317682b"
      },
      "execution_count": 2,
      "outputs": [
        {
          "output_type": "stream",
          "name": "stdout",
          "text": [
            "--2023-03-01 23:58:00--  https://jdbc.postgresql.org/download/postgresql-42.2.9.jar\n",
            "Resolving jdbc.postgresql.org (jdbc.postgresql.org)... 72.32.157.228, 2001:4800:3e1:1::228\n",
            "Connecting to jdbc.postgresql.org (jdbc.postgresql.org)|72.32.157.228|:443... connected.\n",
            "HTTP request sent, awaiting response... 200 OK\n",
            "Length: 914037 (893K) [application/java-archive]\n",
            "Saving to: ‘postgresql-42.2.9.jar’\n",
            "\n",
            "postgresql-42.2.9.j 100%[===================>] 892.61K  5.13MB/s    in 0.2s    \n",
            "\n",
            "2023-03-01 23:58:01 (5.13 MB/s) - ‘postgresql-42.2.9.jar’ saved [914037/914037]\n",
            "\n"
          ]
        }
      ]
    },
    {
      "cell_type": "code",
      "source": [
        "# Import Spark and create a SparkSession\n",
        "from pyspark.sql import SparkSession\n",
        "spark = SparkSession.builder.appName(\"BigData-HW-1\").config(\"spark.driver.extraClassPath\",\"/content/postgresql-42.2.9.jar\").getOrCreate()"
      ],
      "metadata": {
        "id": "23kcz55gnIEf"
      },
      "execution_count": 3,
      "outputs": []
    },
    {
      "cell_type": "markdown",
      "source": [
        "# Extract the Amazon Data into Spark Dataframe"
      ],
      "metadata": {
        "id": "o0mUvAgPnQVv"
      }
    },
    {
      "cell_type": "code",
      "source": [
        "# Read in the data from an S3 Bucket\n",
        "from pyspark import SparkFiles\n",
        "url = \"https://s3.amazonaws.com/amazon-reviews-pds/tsv/amazon_reviews_us_Jewelry_v1_00.tsv.gz\"\n",
        "\n",
        "spark.sparkContext.addFile(url)\n",
        "\n",
        "reviewDf = spark.read.csv(SparkFiles.get(\"amazon_reviews_us_Jewelry_v1_00.tsv.gz\"), sep=\"\\t\", header=True, inferSchema=True)\n",
        "\n",
        "reviewDf.show()"
      ],
      "metadata": {
        "colab": {
          "base_uri": "https://localhost:8080/"
        },
        "id": "o_eEBc2znaQa",
        "outputId": "487a0497-ecf6-4692-e331-3deb08d9a582"
      },
      "execution_count": 4,
      "outputs": [
        {
          "output_type": "stream",
          "name": "stdout",
          "text": [
            "+-----------+-----------+--------------+----------+--------------+--------------------+----------------+-----------+-------------+-----------+----+-----------------+--------------------+--------------------+-----------+\n",
            "|marketplace|customer_id|     review_id|product_id|product_parent|       product_title|product_category|star_rating|helpful_votes|total_votes|vine|verified_purchase|     review_headline|         review_body|review_date|\n",
            "+-----------+-----------+--------------+----------+--------------+--------------------+----------------+-----------+-------------+-----------+----+-----------------+--------------------+--------------------+-----------+\n",
            "|         US|   50423057|R135Q3VZ4DQN5N|B00JWXFDMG|     657335467|Everbling Purple ...|         Jewelry|          5|            0|          0|   N|                Y|           Beauties!|so beautiful even...| 2015-08-31|\n",
            "|         US|   11262325|R2N0QQ6R4T7YRY|B00W5T1H9W|      26030170|925 Sterling Silv...|         Jewelry|          5|            0|          0|   N|                N|      Great product.|Great product.. I...| 2015-08-31|\n",
            "|         US|   27541121|R3N5JE5Y4T6W5M|B00M2L6KFY|     697845240|Sterling Silver C...|         Jewelry|          5|            0|          0|   N|                Y|Exactly as pictur...|Exactly as pictur...| 2015-08-31|\n",
            "|         US|    5350721|R2I150CX5IVY9Q|B0006SW2WU|     569859289|Surgical Stainles...|         Jewelry|          5|            0|          0|   N|                Y|          Five Stars|Love it. Fits gre...| 2015-08-31|\n",
            "|         US|   24484424|R1RM9ICOOA9MQ3|B009YPDW70|     332947422|Sterling Silver F...|         Jewelry|          5|            0|          0|   N|                Y|... a Mother's Da...|Got this as a Mot...| 2015-08-31|\n",
            "|         US|     457767|R2J2KMDL10UMSH|B00QGA8XZM|     424804582|CHOOSE YOUR COLOR...|         Jewelry|          5|            0|          0|   N|                Y|          Five Stars|I Love It Make Me...| 2015-08-31|\n",
            "|         US|   31009358|R3R9ZUFA4TB4FQ|B00L0N0E8E|     589441783|Metal Factory 925...|         Jewelry|          5|            0|          0|   N|                Y|          Five Stars|True to size, unique| 2015-08-31|\n",
            "|         US|    7034628|R3UQ8VAQN7R6WL|B00DMWQKWA|     517428445|niceEshop(TM)Clas...|         Jewelry|          5|            0|          0|   N|                Y|          Five Stars|This necklace is ...| 2015-08-31|\n",
            "|         US|   34608636|R1FXZ69C01JNQM|B00THLHAGA|     320313750|Genuine Natural B...|         Jewelry|          5|            0|          0|   N|                Y|          Five Stars|        just perfect| 2015-08-31|\n",
            "|         US|   44972687| RY36LB4OW0FFS|B00UXSEOHY|     589365488|MBOX Expandable A...|         Jewelry|          5|            0|          0|   N|                Y|          Five Stars|           Love it !| 2015-08-31|\n",
            "|         US|   16684508| R6PKS54PC6ZY2|B00XGRYGVS|     217045013|Set of 3 Nose Rin...|         Jewelry|          1|            4|          4|   N|                Y|I had high hopes ...|They didn't even ...| 2015-08-31|\n",
            "|         US|   23493178|R1LYSAH0IECVWB|B00AJ2VU8A|     972853757|3-row White A Gra...|         Jewelry|          5|            0|          0|   N|                Y|This is a real ni...|This is a real ni...| 2015-08-31|\n",
            "|         US|     108294|R1UN0IZI3XQ3E2|B00LE5Y100|     979375701|KONOV Mens Stainl...|         Jewelry|          5|            2|          3|   N|                Y|             AMAZING|This is a very co...| 2015-08-31|\n",
            "|         US|   25810742| RIKDXD8QGL99S|B013E0AOH6|     619592796|TEMEGO Jewelry Me...|         Jewelry|          5|            1|          1|   N|                Y|          Five Stars|Great quality for...| 2015-08-31|\n",
            "|         US|   12037665| RUZCQTXZVGUFH|B00XAWUP96|     783863439|Royal Blue/White ...|         Jewelry|          4|            1|          1|   N|                Y|A Little Smaller ...|I like the bracel...| 2015-08-31|\n",
            "|         US|   51793466|R35CD4IHO3RP9H|B00WD82F1O|     655270378|10-11mm Baroque F...|         Jewelry|          5|            1|          1|   N|                Y|Pretty and Versatile|This is pretty an...| 2015-08-31|\n",
            "|         US|     127508|R13YD66XC9221U|B00JP4XCSO|     592155747|Sankuwen® Fashion...|         Jewelry|          1|            0|          0|   N|                N|Don't get this li...|Don't get this li...| 2015-08-31|\n",
            "|         US|   38430946| RHWG4JRVDSEYY|B00PZSM384|     622179716|zjskin6688 store ...|         Jewelry|          3|            1|          1|   N|                Y|         Three Stars|Not what I expect...| 2015-08-31|\n",
            "|         US|   33684654|R3SPIKMJ5IWHX8|B00VLMW18K|      36759824|Scheppend Polymer...|         Jewelry|          4|            0|          0|   N|                Y|          Four Stars|Bought these for ...| 2015-08-31|\n",
            "|         US|    5068631| RS19ACU7KWWNE|B00U5LDBB4|     575109200|Horizontal Sidewa...|         Jewelry|          5|            1|          1|   N|                Y|          Five Stars|Pretty, and very ...| 2015-08-31|\n",
            "+-----------+-----------+--------------+----------+--------------+--------------------+----------------+-----------+-------------+-----------+----+-----------------+--------------------+--------------------+-----------+\n",
            "only showing top 20 rows\n",
            "\n"
          ]
        }
      ]
    },
    {
      "cell_type": "code",
      "source": [
        "# Get the number of rows in the DataFrame.\n",
        "\n",
        "reviewDf.count()"
      ],
      "metadata": {
        "colab": {
          "base_uri": "https://localhost:8080/"
        },
        "id": "Cikn-wX2nc_d",
        "outputId": "2ef2766b-4023-4831-8833-0e5b151dc3cf"
      },
      "execution_count": 5,
      "outputs": [
        {
          "output_type": "execute_result",
          "data": {
            "text/plain": [
              "1767753"
            ]
          },
          "metadata": {},
          "execution_count": 5
        }
      ]
    },
    {
      "cell_type": "code",
      "source": [
        "from pyspark.sql.functions import to_date\n",
        "# Create the \"review_id_df\" DataFrame with the appropriate columns and data types.\n",
        "review_id_df = reviewDf.select([\"review_id\", \"customer_id\", \"product_id\", \"product_parent\", \"review_date\"])\n",
        "\n",
        "review_id_df.show()"
      ],
      "metadata": {
        "colab": {
          "base_uri": "https://localhost:8080/"
        },
        "id": "8BlmKe0CngsG",
        "outputId": "ef9b69ff-b92c-42f0-fc37-a5960c10f70b"
      },
      "execution_count": 6,
      "outputs": [
        {
          "output_type": "stream",
          "name": "stdout",
          "text": [
            "+--------------+-----------+----------+--------------+-----------+\n",
            "|     review_id|customer_id|product_id|product_parent|review_date|\n",
            "+--------------+-----------+----------+--------------+-----------+\n",
            "|R135Q3VZ4DQN5N|   50423057|B00JWXFDMG|     657335467| 2015-08-31|\n",
            "|R2N0QQ6R4T7YRY|   11262325|B00W5T1H9W|      26030170| 2015-08-31|\n",
            "|R3N5JE5Y4T6W5M|   27541121|B00M2L6KFY|     697845240| 2015-08-31|\n",
            "|R2I150CX5IVY9Q|    5350721|B0006SW2WU|     569859289| 2015-08-31|\n",
            "|R1RM9ICOOA9MQ3|   24484424|B009YPDW70|     332947422| 2015-08-31|\n",
            "|R2J2KMDL10UMSH|     457767|B00QGA8XZM|     424804582| 2015-08-31|\n",
            "|R3R9ZUFA4TB4FQ|   31009358|B00L0N0E8E|     589441783| 2015-08-31|\n",
            "|R3UQ8VAQN7R6WL|    7034628|B00DMWQKWA|     517428445| 2015-08-31|\n",
            "|R1FXZ69C01JNQM|   34608636|B00THLHAGA|     320313750| 2015-08-31|\n",
            "| RY36LB4OW0FFS|   44972687|B00UXSEOHY|     589365488| 2015-08-31|\n",
            "| R6PKS54PC6ZY2|   16684508|B00XGRYGVS|     217045013| 2015-08-31|\n",
            "|R1LYSAH0IECVWB|   23493178|B00AJ2VU8A|     972853757| 2015-08-31|\n",
            "|R1UN0IZI3XQ3E2|     108294|B00LE5Y100|     979375701| 2015-08-31|\n",
            "| RIKDXD8QGL99S|   25810742|B013E0AOH6|     619592796| 2015-08-31|\n",
            "| RUZCQTXZVGUFH|   12037665|B00XAWUP96|     783863439| 2015-08-31|\n",
            "|R35CD4IHO3RP9H|   51793466|B00WD82F1O|     655270378| 2015-08-31|\n",
            "|R13YD66XC9221U|     127508|B00JP4XCSO|     592155747| 2015-08-31|\n",
            "| RHWG4JRVDSEYY|   38430946|B00PZSM384|     622179716| 2015-08-31|\n",
            "|R3SPIKMJ5IWHX8|   33684654|B00VLMW18K|      36759824| 2015-08-31|\n",
            "| RS19ACU7KWWNE|    5068631|B00U5LDBB4|     575109200| 2015-08-31|\n",
            "+--------------+-----------+----------+--------------+-----------+\n",
            "only showing top 20 rows\n",
            "\n"
          ]
        }
      ]
    },
    {
      "cell_type": "code",
      "source": [
        "#cleaning the review_if_df just in case\n",
        "review_id_df = review_id_df.dropDuplicates([\"review_id\"])\n",
        "review_id_df = review_id_df.dropna(how='any')"
      ],
      "metadata": {
        "id": "EUxkmMqznjr8"
      },
      "execution_count": 7,
      "outputs": []
    },
    {
      "cell_type": "markdown",
      "source": [
        "# Create the Product Table"
      ],
      "metadata": {
        "id": "od9sRbirnsFH"
      }
    },
    {
      "cell_type": "code",
      "source": [
        "# Create the \"products_df\" DataFrame that drops the duplicates in the \"product_id\" and \"product_title columns. \n",
        "products_df = reviewDf.select([\"product_id\", \"product_title\"])\n",
        "products_df.show()"
      ],
      "metadata": {
        "colab": {
          "base_uri": "https://localhost:8080/"
        },
        "id": "4bRoA-ZAnz9Q",
        "outputId": "0519e5e2-aab9-4184-edf1-11d42e55590c"
      },
      "execution_count": 8,
      "outputs": [
        {
          "output_type": "stream",
          "name": "stdout",
          "text": [
            "+----------+--------------------+\n",
            "|product_id|       product_title|\n",
            "+----------+--------------------+\n",
            "|B00JWXFDMG|Everbling Purple ...|\n",
            "|B00W5T1H9W|925 Sterling Silv...|\n",
            "|B00M2L6KFY|Sterling Silver C...|\n",
            "|B0006SW2WU|Surgical Stainles...|\n",
            "|B009YPDW70|Sterling Silver F...|\n",
            "|B00QGA8XZM|CHOOSE YOUR COLOR...|\n",
            "|B00L0N0E8E|Metal Factory 925...|\n",
            "|B00DMWQKWA|niceEshop(TM)Clas...|\n",
            "|B00THLHAGA|Genuine Natural B...|\n",
            "|B00UXSEOHY|MBOX Expandable A...|\n",
            "|B00XGRYGVS|Set of 3 Nose Rin...|\n",
            "|B00AJ2VU8A|3-row White A Gra...|\n",
            "|B00LE5Y100|KONOV Mens Stainl...|\n",
            "|B013E0AOH6|TEMEGO Jewelry Me...|\n",
            "|B00XAWUP96|Royal Blue/White ...|\n",
            "|B00WD82F1O|10-11mm Baroque F...|\n",
            "|B00JP4XCSO|Sankuwen® Fashion...|\n",
            "|B00PZSM384|zjskin6688 store ...|\n",
            "|B00VLMW18K|Scheppend Polymer...|\n",
            "|B00U5LDBB4|Horizontal Sidewa...|\n",
            "+----------+--------------------+\n",
            "only showing top 20 rows\n",
            "\n"
          ]
        }
      ]
    },
    {
      "cell_type": "code",
      "source": [
        "#cleaning the products_df just in case\n",
        "products_df = products_df.dropDuplicates([\"product_id\"])\n",
        "products_df = products_df.dropna(how='any')"
      ],
      "metadata": {
        "id": "_SmFX2d2n17E"
      },
      "execution_count": 9,
      "outputs": []
    },
    {
      "cell_type": "markdown",
      "source": [
        "# Create Customers Table"
      ],
      "metadata": {
        "id": "Zp9RToRNn_6Y"
      }
    },
    {
      "cell_type": "code",
      "source": [
        "# Create the \"customers_df\" DataFrame that groups the data on the \"customer_id\" by the number of times a customer reviewed a product. \n",
        "customers_df = reviewDf.select([\"customer_id\"])\n",
        "customers_df.show()\n"
      ],
      "metadata": {
        "colab": {
          "base_uri": "https://localhost:8080/"
        },
        "id": "9-sIJB6-oGEl",
        "outputId": "e77ad49a-ab33-4e78-fdd1-209f30c23d49"
      },
      "execution_count": 10,
      "outputs": [
        {
          "output_type": "stream",
          "name": "stdout",
          "text": [
            "+-----------+\n",
            "|customer_id|\n",
            "+-----------+\n",
            "|   50423057|\n",
            "|   11262325|\n",
            "|   27541121|\n",
            "|    5350721|\n",
            "|   24484424|\n",
            "|     457767|\n",
            "|   31009358|\n",
            "|    7034628|\n",
            "|   34608636|\n",
            "|   44972687|\n",
            "|   16684508|\n",
            "|   23493178|\n",
            "|     108294|\n",
            "|   25810742|\n",
            "|   12037665|\n",
            "|   51793466|\n",
            "|     127508|\n",
            "|   38430946|\n",
            "|   33684654|\n",
            "|    5068631|\n",
            "+-----------+\n",
            "only showing top 20 rows\n",
            "\n"
          ]
        }
      ]
    },
    {
      "cell_type": "code",
      "source": [
        "#adding count\n",
        "customers_df = customers_df.groupBy(\"customer_id\").count()\n",
        "customers_df.orderBy(\"customer_id\").select([\"customer_id\", \"count\"])\n",
        "customers_df.show()"
      ],
      "metadata": {
        "colab": {
          "base_uri": "https://localhost:8080/"
        },
        "id": "QB2YTpo4oH5m",
        "outputId": "40b9180e-52d4-4dff-8d51-2a53deef7734"
      },
      "execution_count": 11,
      "outputs": [
        {
          "output_type": "stream",
          "name": "stdout",
          "text": [
            "+-----------+-----+\n",
            "|customer_id|count|\n",
            "+-----------+-----+\n",
            "|   45657423|    1|\n",
            "|   47663761|    1|\n",
            "|   11931196|    1|\n",
            "|   44620216|    1|\n",
            "|    1167081|    1|\n",
            "|   17682867|    1|\n",
            "|   10782454|    1|\n",
            "|   51881951|    1|\n",
            "|    1537684|    1|\n",
            "|   17133428|    5|\n",
            "|     661760|    1|\n",
            "|    9867391|    9|\n",
            "|   31268594|    1|\n",
            "|   48581590|    1|\n",
            "|   32466409|    3|\n",
            "|   38490515|    1|\n",
            "|   41318181|    4|\n",
            "|   18800155|    6|\n",
            "|   46306239|    1|\n",
            "|   28409312|    1|\n",
            "+-----------+-----+\n",
            "only showing top 20 rows\n",
            "\n"
          ]
        }
      ]
    },
    {
      "cell_type": "markdown",
      "source": [
        "# Create the Vine_Table"
      ],
      "metadata": {
        "id": "DEgwdwV2oMKs"
      }
    },
    {
      "cell_type": "code",
      "source": [
        "# Create the \"vine_df\" DataFrame that has the \"review_id\", \"star_rating\", \"helpful_votes\", \"total_votes\", and \"vine\" columns. \n",
        "vine_df = reviewDf.select([\"review_id\",\"star_rating\", \"helpful_votes\", \"total_votes\", \"vine\"])\n",
        "vine_df.show()"
      ],
      "metadata": {
        "colab": {
          "base_uri": "https://localhost:8080/"
        },
        "id": "tJdD93hpoUN2",
        "outputId": "0f31e00c-64d1-4ad9-d80b-5e5957bab82c"
      },
      "execution_count": 12,
      "outputs": [
        {
          "output_type": "stream",
          "name": "stdout",
          "text": [
            "+--------------+-----------+-------------+-----------+----+\n",
            "|     review_id|star_rating|helpful_votes|total_votes|vine|\n",
            "+--------------+-----------+-------------+-----------+----+\n",
            "|R135Q3VZ4DQN5N|          5|            0|          0|   N|\n",
            "|R2N0QQ6R4T7YRY|          5|            0|          0|   N|\n",
            "|R3N5JE5Y4T6W5M|          5|            0|          0|   N|\n",
            "|R2I150CX5IVY9Q|          5|            0|          0|   N|\n",
            "|R1RM9ICOOA9MQ3|          5|            0|          0|   N|\n",
            "|R2J2KMDL10UMSH|          5|            0|          0|   N|\n",
            "|R3R9ZUFA4TB4FQ|          5|            0|          0|   N|\n",
            "|R3UQ8VAQN7R6WL|          5|            0|          0|   N|\n",
            "|R1FXZ69C01JNQM|          5|            0|          0|   N|\n",
            "| RY36LB4OW0FFS|          5|            0|          0|   N|\n",
            "| R6PKS54PC6ZY2|          1|            4|          4|   N|\n",
            "|R1LYSAH0IECVWB|          5|            0|          0|   N|\n",
            "|R1UN0IZI3XQ3E2|          5|            2|          3|   N|\n",
            "| RIKDXD8QGL99S|          5|            1|          1|   N|\n",
            "| RUZCQTXZVGUFH|          4|            1|          1|   N|\n",
            "|R35CD4IHO3RP9H|          5|            1|          1|   N|\n",
            "|R13YD66XC9221U|          1|            0|          0|   N|\n",
            "| RHWG4JRVDSEYY|          3|            1|          1|   N|\n",
            "|R3SPIKMJ5IWHX8|          4|            0|          0|   N|\n",
            "| RS19ACU7KWWNE|          5|            1|          1|   N|\n",
            "+--------------+-----------+-------------+-----------+----+\n",
            "only showing top 20 rows\n",
            "\n"
          ]
        }
      ]
    },
    {
      "cell_type": "markdown",
      "source": [
        "# Load"
      ],
      "metadata": {
        "id": "OyB30WKYoZBP"
      }
    },
    {
      "cell_type": "code",
      "source": [
        "mode = \"append\"\n",
        "jdbc_url=\"jdbc:postgresql://<endpoint>:5432/my_data_class_db\"\n",
        "config = {\"user\":\"postgres\", \"password\": \"<password>\", \"driver\":\"org.postgresql.Driver\"}"
      ],
      "metadata": {
        "id": "cF0U_icwobwb"
      },
      "execution_count": 16,
      "outputs": []
    },
    {
      "cell_type": "code",
      "source": [
        "# Write review_id_df to table in RDS\n",
        "review_id_df.write.jdbc(url=jdbc_url, table=\"review_id_table\", mode=mode, properties=config)"
      ],
      "metadata": {
        "id": "0GjhSZnFsEps"
      },
      "execution_count": null,
      "outputs": []
    },
    {
      "cell_type": "code",
      "source": [
        "# Write products_df to table in RDS\n",
        "products_df.write.jdbc(url=jdbc_url, table=\"products\", mode=mode, properties=config)"
      ],
      "metadata": {
        "id": "AwZg253IsFhv"
      },
      "execution_count": null,
      "outputs": []
    },
    {
      "cell_type": "code",
      "source": [
        "# Write customers_df to table in RDS\n",
        "customers_df.write.jdbc(url=jdbc_url, table=\"customers\", mode=mode, properties=config)"
      ],
      "metadata": {
        "id": "Td2z280CsFyJ"
      },
      "execution_count": null,
      "outputs": []
    },
    {
      "cell_type": "code",
      "source": [
        "# Write vine_df to table in RDS\n",
        "vine_df.write.jdbc(url=jdbc_url, table=\"vine_table\", mode=mode, properties=config)"
      ],
      "metadata": {
        "id": "PNitA96qsGLO"
      },
      "execution_count": null,
      "outputs": []
    }
  ]
}